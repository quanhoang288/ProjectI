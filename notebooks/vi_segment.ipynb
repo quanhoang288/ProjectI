{
 "metadata": {
  "language_info": {
   "codemirror_mode": {
    "name": "ipython",
    "version": 3
   },
   "file_extension": ".py",
   "mimetype": "text/x-python",
   "name": "python",
   "nbconvert_exporter": "python",
   "pygments_lexer": "ipython3",
   "version": "3.6.12-final"
  },
  "orig_nbformat": 2,
  "kernelspec": {
   "name": "python3",
   "display_name": "Python 3.6.12 64-bit ('myenv': conda)",
   "metadata": {
    "interpreter": {
     "hash": "60c7a6e8b6527e381948c2d1b3dbcfa3f3e990b5b233a03b8b0a84902d16eabf"
    }
   }
  }
 },
 "nbformat": 4,
 "nbformat_minor": 2,
 "cells": [
  {
   "cell_type": "code",
   "execution_count": 1,
   "metadata": {},
   "outputs": [
    {
     "output_type": "stream",
     "name": "stderr",
     "text": [
      "2021-01-05 10:27:07,809 - \u001b[1;32mINFO    \u001b[0m - root                      - Loaded model from D:\\anaconda\\envs\\myenv\\lib\\site-packages\\khmernltk\\word_tokenize\\sklearn_crf_ner_10000.sav\n",
      "2021-01-05 10:27:07,827 - \u001b[1;32mINFO    \u001b[0m - root                      - Loaded model from D:\\anaconda\\envs\\myenv\\lib\\site-packages\\khmernltk\\pos_tag\\sklearn_crf_pos_alt_0.9849.sav\n"
     ]
    }
   ],
   "source": [
    "import re\n",
    "from underthesea import sent_tokenize\n",
    "from khmernltk import sentence_tokenize\n",
    "from vncorenlp import VnCoreNLP\n",
    "from transformers import AutoModel, AutoTokenizer"
   ]
  },
  {
   "cell_type": "code",
   "execution_count": 2,
   "metadata": {},
   "outputs": [
    {
     "output_type": "stream",
     "name": "stderr",
     "text": [
      "2021-01-05 10:27:11,152 - \u001b[1;32mINFO    \u001b[0m - vncorenlp.vncorenlp       - Starting server on: http://127.0.0.1:56438\n",
      "2021-01-05 10:27:11,157 - \u001b[1;32mINFO    \u001b[0m - vncorenlp.vncorenlp       - Server ID: 17292\n",
      "2021-01-05 10:27:11,163 - \u001b[38;21mDEBUG   \u001b[0m - urllib3.connectionpool    - Starting new HTTP connection (1): 127.0.0.1:56438\n",
      "2021-01-05 10:27:12,781 - \u001b[38;21mDEBUG   \u001b[0m - urllib3.connectionpool    - http://127.0.0.1:56438 \"GET / HTTP/1.1\" 200 None\n",
      "2021-01-05 10:27:12,786 - \u001b[38;21mDEBUG   \u001b[0m - urllib3.connectionpool    - Starting new HTTP connection (1): 127.0.0.1:56438\n",
      "2021-01-05 10:27:12,797 - \u001b[38;21mDEBUG   \u001b[0m - urllib3.connectionpool    - http://127.0.0.1:56438 \"GET /annotators HTTP/1.1\" 200 None\n",
      "2021-01-05 10:27:12,800 - \u001b[1;32mINFO    \u001b[0m - vncorenlp.vncorenlp       - The server is now available on: http://127.0.0.1:56438\n"
     ]
    }
   ],
   "source": [
    "annotator = VnCoreNLP(\"C:\\\\Users\\\\Dell 7577\\\\Downloads\\\\VnCoreNLP-master\\\\VnCoreNLP-1.1.1.jar\", annotators=\"wseg\", max_heap_size='-Xmx500m')\n"
   ]
  },
  {
   "cell_type": "code",
   "execution_count": 3,
   "metadata": {},
   "outputs": [
    {
     "output_type": "stream",
     "name": "stderr",
     "text": [
      "2021-01-05 10:27:15,813 - \u001b[38;21mDEBUG   \u001b[0m - urllib3.connectionpool    - Starting new HTTPS connection (1): huggingface.co:443\n",
      "2021-01-05 10:27:18,754 - \u001b[38;21mDEBUG   \u001b[0m - urllib3.connectionpool    - https://huggingface.co:443 \"HEAD /vinai/phobert-base/resolve/main/config.json HTTP/1.1\" 200 0\n",
      "2021-01-05 10:27:18,761 - \u001b[38;21mDEBUG   \u001b[0m - urllib3.connectionpool    - Starting new HTTPS connection (1): huggingface.co:443\n",
      "2021-01-05 10:27:19,713 - \u001b[38;21mDEBUG   \u001b[0m - urllib3.connectionpool    - https://huggingface.co:443 \"HEAD /vinai/phobert-base/resolve/main/vocab.txt HTTP/1.1\" 200 0\n",
      "2021-01-05 10:27:19,719 - \u001b[38;21mDEBUG   \u001b[0m - urllib3.connectionpool    - Starting new HTTPS connection (1): huggingface.co:443\n",
      "2021-01-05 10:27:20,675 - \u001b[38;21mDEBUG   \u001b[0m - urllib3.connectionpool    - https://huggingface.co:443 \"HEAD /vinai/phobert-base/resolve/main/bpe.codes HTTP/1.1\" 200 0\n",
      "Special tokens have been added in the vocabulary, make sure the associated word embedding are fine-tuned or trained.\n",
      "2021-01-05 10:27:20,820 - \u001b[38;21mDEBUG   \u001b[0m - urllib3.connectionpool    - Starting new HTTPS connection (1): huggingface.co:443\n",
      "2021-01-05 10:27:21,759 - \u001b[38;21mDEBUG   \u001b[0m - urllib3.connectionpool    - https://huggingface.co:443 \"HEAD /vinai/phobert-base/resolve/main/config.json HTTP/1.1\" 200 0\n",
      "2021-01-05 10:27:21,766 - \u001b[38;21mDEBUG   \u001b[0m - urllib3.connectionpool    - Starting new HTTPS connection (1): huggingface.co:443\n",
      "2021-01-05 10:27:22,735 - \u001b[38;21mDEBUG   \u001b[0m - urllib3.connectionpool    - https://huggingface.co:443 \"HEAD /vinai/phobert-base/resolve/main/pytorch_model.bin HTTP/1.1\" 302 0\n"
     ]
    }
   ],
   "source": [
    "tokenizer = AutoTokenizer.from_pretrained(\"vinai/phobert-base\")\n",
    "phobert = AutoModel.from_pretrained(\"vinai/phobert-base\", output_hidden_states = True)"
   ]
  },
  {
   "cell_type": "code",
   "execution_count": 60,
   "metadata": {},
   "outputs": [],
   "source": [
    "def read_file(file_path, language='vi', sen=False):\n",
    "    res = []\n",
    "    with open(file_path, 'r', encoding='utf-8') as f:\n",
    "        lines = f.readlines()\n",
    "        res = [re.sub('\\n|\\u200b', '', line).strip() for line in lines]\n",
    "        res = [line for line in res if len(line) > 0]\n",
    "        if sen:\n",
    "            return res[0] \n",
    "        else: \n",
    "            res_segmented = []\n",
    "            if language == 'vi':\n",
    "                for line in res:\n",
    "                    print(line)\n",
    "                    print(sent_tokenize(line))\n",
    "                    print('-'*50) \n",
    "                    res_segmented += sent_tokenize(line)\n",
    "            else: \n",
    "                for line in res:\n",
    "                    res_segmented += sentence_tokenize(line)\n",
    "            # punctuation = '[!\"#$%&\\'()*+,./;<=>?@[\\\\]^_`{|}~]'\n",
    "            # res = [re.sub(punctuation, '', line) for line in res]\n",
    "            return res_segmented\n",
    "\n",
    "def preprocess_text(text, language, sen=False):\n",
    "    if not sen:\n",
    "        res = []       \n",
    "        if language == 'vi':\n",
    "            for line in text: \n",
    "                res += sent_tokenize(line)        \n",
    "        else:\n",
    "            for line in text:\n",
    "                \n",
    "                res += sentence_tokenize(line)\n",
    "        punctuation = '[!\"#$%&\\'()*+,./;<=>?@[\\\\]^_`{|}~]'\n",
    "        res = [re.sub(punctuation, '', line) for line in res]\n",
    "        res = [line.lower() for line in res]\n",
    "        return res\n",
    "    else: \n",
    "        punctuation = '[!\"#$%&\\'()*+,./;<=>?@[\\\\]^_`{|}~]'\n",
    "        text = re.sub(punctuation, '', text)\n",
    "        return text.lower()\n",
    "\n"
   ]
  },
  {
   "cell_type": "code",
   "execution_count": 12,
   "metadata": {},
   "outputs": [],
   "source": [
    "def segment_sentence(sen):\n",
    "    word_segmented_sen = annotator.tokenize(sen)\n",
    "    # word_segmented_sen = annotator.annotate(sen)['sentences'][0]\n",
    "    res = ''\n",
    "    # for word in word_segmented_sen:\n",
    "    #     if word['nerLabel'] not in ['B-PER', 'B-LOC', 'B-ORG', 'B-MISC']:\n",
    "    #         res += word['form'] + ' '\n",
    "    for sen in word_segmented_sen:\n",
    "        for word in sen:\n",
    "            res += word + ' '\n",
    "    return res.strip() "
   ]
  },
  {
   "cell_type": "code",
   "execution_count": 62,
   "metadata": {},
   "outputs": [
    {
     "output_type": "stream",
     "name": "stdout",
     "text": [
      "Ý đã đánh bại Bồ Đào Nha với tỉ số 31-5 ở Bảng C Giải vô địch Rugby thế giới 2007 tại Parc des Princes, Pari, Pháp.\n['Ý đã đánh bại Bồ Đào Nha với tỉ số 31-5 ở Bảng C Giải vô địch Rugby thế giới 2007 tại Parc des Princes, Pari, Pháp.']\n--------------------------------------------------\nAndrea Maisi đã mở tỉ số cho Ý ở phút thứ tư với một quả try.\n['Andrea Maisi đã mở tỉ số cho Ý ở phút thứ tư với một quả try.']\n--------------------------------------------------\nChiếm thế áp đảo trong hầu hết hiệp đầu nhưng Ý đã không thể ghi thêm try nào trước khi nghỉ giữa giờ, tuy nhiên David Bortolussi đã sút ba quả phạt đền kéo dài thế dẫn đầu của họ.\n['Chiếm thế áp đảo trong hầu hết hiệp đầu nhưng Ý đã không thể ghi thêm try nào trước khi nghỉ giữa giờ, tuy nhiên David Bortolussi đã sút ba quả phạt đền kéo dài thế dẫn đầu của họ.']\n--------------------------------------------------\nBồ Đào Nha chưa bao giờ từ bỏ và David Penalva đã ghi một try ở phút thứ 33, điểm duy nhất của họ trong trận đấu.\n['Bồ Đào Nha chưa bao giờ từ bỏ và David Penalva đã ghi một try ở phút thứ 33, điểm duy nhất của họ trong trận đấu.']\n--------------------------------------------------\nÝ đã dẫn 16-5 ở hiệp đầu nhưng ngang sức với Bồ Đào Nha ở hầu hết thời gian của hiệp hai.\n['Ý đã dẫn 16-5 ở hiệp đầu nhưng ngang sức với Bồ Đào Nha ở hầu hết thời gian của hiệp hai.']\n--------------------------------------------------\nTuy nhiên Bortolussi đã ghi cú phạt đền lần thứ tư của trận đấu, tiếp đó là những quả try của Mauro Bergammasco và quả try thứ hai của Andrea Masi chốt lại chiến thắng cho Ý.\n['Tuy nhiên Bortolussi đã ghi cú phạt đền lần thứ tư của trận đấu, tiếp đó là những quả try của Mauro Bergammasco và quả try thứ hai của Andrea Masi chốt lại chiến thắng cho Ý.']\n--------------------------------------------------\nHiện tại đứng ở vị trí thứ Ba trong Bảng C với tám điểm, Ý phải đối mặt với một trận đấu gay go trước Scốt-len đang ở vị trí thứ Hai vào ngày 29 tháng Chín.\n['Hiện tại đứng ở vị trí thứ Ba trong Bảng C với tám điểm, Ý phải đối mặt với một trận đấu gay go trước Scốt-len đang ở vị trí thứ Hai vào ngày 29 tháng Chín.']\n--------------------------------------------------\nNiu-Di-Lân dẫn đầu bảng với mười điểm, hơn Scốt-Len ở hiệu số bàn thắng.\n['Niu-Di-Lân dẫn đầu bảng với mười điểm, hơn Scốt-Len ở hiệu số bàn thắng.']\n--------------------------------------------------\nBồ Đào Nha ở cuối bảng với không điểm, đứng sau Romania với một điểm.\n['Bồ Đào Nha ở cuối bảng với không điểm, đứng sau Romania với một điểm.']\n--------------------------------------------------\nMột phần thông tin cá nhân của 3 triệu học viên Anh đăng kí tham dự phần \"Sát hạch Lý thuyết\" để lấy bằng lái xe đã bị mất ở Iowa, Hoa Kỳ.\n['Một phần thông tin cá nhân của 3 triệu học viên Anh đăng kí tham dự phần \"Sát hạch Lý thuyết\" để lấy bằng lái xe đã bị mất ở Iowa, Hoa Kỳ.']\n--------------------------------------------------\nDữ liệu bị mất trong một ổ cứng sở hữu bởi công ty TNHH Pearson Driving Assessments, đối tác tư nhân của cục tiêu chuẩn lái xe Anh.\n['Dữ liệu bị mất trong một ổ cứng sở hữu bởi công ty TNHH Pearson Driving Assessments, đối tác tư nhân của cục tiêu chuẩn lái xe Anh.']\n--------------------------------------------------\nThông tin chi tiết được cung cấp bởi Bộ trưởng Giao thông Anh, Ruth Kelly, tại Hạ nghị viện ngày hôm qua lúc 17:30 theo Giờ Phối hợp Quốc tế.\n['Thông tin chi tiết được cung cấp bởi Bộ trưởng Giao thông Anh, Ruth Kelly, tại Hạ nghị viện ngày hôm qua lúc 17:30 theo Giờ Phối hợp Quốc tế.']\n--------------------------------------------------\nĐây là vụ mất dữ liệu lớn đầu tiên tại Anh kể từ khi Cục Thuế làm mất dữ liệu của 25 triệu người vào tháng Mười.\n['Đây là vụ mất dữ liệu lớn đầu tiên tại Anh kể từ khi Cục Thuế làm mất dữ liệu của 25 triệu người vào tháng Mười.']\n--------------------------------------------------\nTrong tuyên bố với MPs, Ruth Kelly đã khẳng định rằng trong dữ liệu bị mất không có thông tin ngân hàng cũng như ngày sinh của các cá nhân.\n['Trong tuyên bố với MPs, Ruth Kelly đã khẳng định rằng trong dữ liệu bị mất không có thông tin ngân hàng cũng như ngày sinh của các cá nhân.']\n--------------------------------------------------\nBà nhấn mạnh rằng các biện pháp an ninh đã được tiến hành, và các thông tin không được lưu dưới dạng có thể \"sẵn sàng sử dụng hoặc truy cập\" bằng các phương pháp thông thường.\n['Bà nhấn mạnh rằng các biện pháp an ninh đã được tiến hành, và các thông tin không được lưu dưới dạng có thể \"sẵn sàng sử dụng hoặc truy cập\" bằng các phương pháp thông thường.']\n--------------------------------------------------\nCác đảng phái chính trị tại Anh tiếp tục tỏ ra lo ngại về vụ việc mất dữ liệu cụ thể này và cả khả năng của Chính phủ trong việc thu thập và bảo vệ thông tin một cách an toàn.\n['Các đảng phái chính trị tại Anh tiếp tục tỏ ra lo ngại về vụ việc mất dữ liệu cụ thể này và cả khả năng của Chính phủ trong việc thu thập và bảo vệ thông tin một cách an toàn.']\n--------------------------------------------------\nSusan Kramer, đại diện cho Đảng Dân chủ Tự do tuyên bố \"Liên tục mưu toan thu thập thông tin nhiều hơn nữa, liên kết chúng với nhau nhiều hơn nữa, tìm hiểu về bạn nhiều hơn nữa, tất cả những điều này là một nghi vấn rất lớn đối với tôi.\"\n['Susan Kramer, đại diện cho Đảng Dân chủ Tự do tuyên bố \"Liên tục mưu toan thu thập thông tin nhiều hơn nữa, liên kết chúng với nhau nhiều hơn nữa, tìm hiểu về bạn nhiều hơn nữa, tất cả những điều này là một nghi vấn rất lớn đối với tôi.\"']\n--------------------------------------------------\nTại cuộc họp của Thượng viện Úc ngày 28 và 29 tháng Ba, nhiều chỉ trích đã nhắm tới những nỗ lực của Chính phủ trong vụ việc xử lý con tàu ma, tàu chở dầu Jian Seng, được tìm thấy bị bỏ hoang và không có ánh đèn ở vịnh Carpentaria.\n['Tại cuộc họp của Thượng viện Úc ngày 28 và 29 tháng Ba, nhiều chỉ trích đã nhắm tới những nỗ lực của Chính phủ trong vụ việc xử lý con tàu ma, tàu chở dầu Jian Seng, được tìm thấy bị bỏ hoang và không có ánh đèn ở vịnh Carpentaria.']\n--------------------------------------------------\nThượng nghị sĩ Joe Ludwig (Đảng Lao động, bang Queensland) đã hỏi Bộ trưởng Tư pháp và Hải quan thượng nghị sĩ Chris Ellison trong thời gian chất vấn liệu ông còn bảo vệ quan điểm của mình ngày hôm qua khi cho rằng sự phát hiện ra tàu Jian Seng chứng tỏ rằng chính phủ Úc đã thực hiện \"giám sát trên không và trên biển để ngăn chặn tàu trong những trường hợp như thế này, và điều đó đã được thực hiện\", và hỏi lý do Chính phủ phải mất hai tuần để chặn con tàu sau khi nó đi vào vùng biển Úc.\n['Thượng nghị sĩ Joe Ludwig (Đảng Lao động, bang Queensland) đã hỏi Bộ trưởng Tư pháp và Hải quan thượng nghị sĩ Chris Ellison trong thời gian chất vấn liệu ông còn bảo vệ quan điểm của mình ngày hôm qua khi cho rằng sự phát hiện ra tàu Jian Seng chứng tỏ rằng chính phủ Úc đã thực hiện \"giám sát trên không và trên biển để ngăn chặn tàu trong những trường hợp như thế này, và điều đó đã được thực hiện\", và hỏi lý do Chính phủ phải mất hai tuần để chặn con tàu sau khi nó đi vào vùng biển Úc.']\n--------------------------------------------------\nThượng nghị sĩ Ellison trả lời rằng khi con tàu được nhìn thấy lần đầu vào ngày 8 tháng Ba \"nó đã không có hành động gì bất hợp pháp\", và chỉ trích tuyên bố của phe đối lập rằng con tàu đã trôi dạt mười bảy ngày, khi cho rằng \"con tàu không phải đã trôi dạt trong toàn bộ 17 ngày.\"\n['Thượng nghị sĩ Ellison trả lời rằng khi con tàu được nhìn thấy lần đầu vào ngày 8 tháng Ba \"nó đã không có hành động gì bất hợp pháp\", và chỉ trích tuyên bố của phe đối lập rằng con tàu đã trôi dạt mười bảy ngày, khi cho rằng \"con tàu không phải đã trôi dạt trong toàn bộ 17 ngày.\"']\n--------------------------------------------------\nNgài Ludwig tiếp tục lưu ý rằng không phải Hải quan phát hiện con tàu mà là một \"xà lan của Úc đi ngang qua\", nhưng ngài Ellison đã bảo vệ quan điểm của mình, nói rằng ngài Ludwig \"cho rằng các tàu thương mại hoàn toàn không có vai trò trong việc cảnh báo cho Úc\" và rằng bản thân ngài \"tin cậy vào các báo cáo gửi đến đường dây nóng của chúng tôi sau đó đi thanh tra các tàu.\"\n['Ngài Ludwig tiếp tục lưu ý rằng không phải Hải quan phát hiện con tàu mà là một \"xà lan của Úc đi ngang qua\", nhưng ngài Ellison đã bảo vệ quan điểm của mình, nói rằng ngài Ludwig \"cho rằng các tàu thương mại hoàn toàn không có vai trò trong việc cảnh báo cho Úc\" và rằng bản thân ngài \"tin cậy vào các báo cáo gửi đến đường dây nóng của chúng tôi sau đó đi thanh tra các tàu.\"']\n--------------------------------------------------\nTiếp đó, Thượng nghị sĩ Kerry O'Brien (Đảng Lao động, bang Tasmania) chỉ trích việc thực hiện phòng thủ bờ biển của Chính phủ, và nhấn mạnh sự nguy hiểm khi bỏ qua con tàu trong mười bảy ngày, nói rằng \"nó đã và có thể vẫn còn tạo ra các rủi ro không rõ ràng về môi trường và kiểm dịch\" và rằng tàu Jian Seng \"đã bị từ chối cập cảng Weipa. .Nó có thể đã vận chuyển bất cứ thứ gì.\"\n['Tiếp đó, Thượng nghị sĩ Kerry O\\'Brien (Đảng Lao động, bang Tasmania) chỉ trích việc thực hiện phòng thủ bờ biển của Chính phủ, và nhấn mạnh sự nguy hiểm khi bỏ qua con tàu trong mười bảy ngày, nói rằng \"nó đã và có thể vẫn còn tạo ra các rủi ro không rõ ràng về môi trường và kiểm dịch\" và rằng tàu Jian Seng \"đã bị từ chối cập cảng Weipa.', '.Nó có thể đã vận chuyển bất cứ thứ gì.\"']\n--------------------------------------------------\nThượng nghị sĩ David Johnston (Đảng Tự do, bang Tây Úc) tiếp tục tranh luận rằng không có hành lang hàng hải nào hoạt động trong khu vực tìm thấy tàu Jian Seng, và các nguồn lực dành cho một con tàu vô hại sẽ tạo những lỗ hổng trong phòng thủ ven biển ở các địa điểm khác.\n['Thượng nghị sĩ David Johnston (Đảng Tự do, bang Tây Úc) tiếp tục tranh luận rằng không có hành lang hàng hải nào hoạt động trong khu vực tìm thấy tàu Jian Seng, và các nguồn lực dành cho một con tàu vô hại sẽ tạo những lỗ hổng trong phòng thủ ven biển ở các địa điểm khác.']\n--------------------------------------------------\nTheo cảnh sát địa phương vụ giết người có lẽ diễn ra vào Chủ Nhật, ngày 31 tháng Bảy, trong đó cũng nhấn mạnh rằng có ít nhất mười kẻ tình nghi đã bị thẩm tra.\n['Theo cảnh sát địa phương vụ giết người có lẽ diễn ra vào Chủ Nhật, ngày 31 tháng Bảy, trong đó cũng nhấn mạnh rằng có ít nhất mười kẻ tình nghi đã bị thẩm tra.']\n--------------------------------------------------\nThi thể của Joana Dudushi đã được tìm thấy ở gần căn hộ nơi bà sống với con nhỏ vài tháng tuổi.\n['Thi thể của Joana Dudushi đã được tìm thấy ở gần căn hộ nơi bà sống với con nhỏ vài tháng tuổi.']\n--------------------------------------------------\nTại loạt giải đua của Hiệp hội đua Mỹ NASCAR, tay đua Jimmie Johnson đã chiến thắng cuộc đua liên tiếp lần hai trong mùa giải này vào ngày chủ nhật trong 2010 Lenox Industrial Tools 301 tại đường đua tốc độ cao New Hamspshire.\n['Tại loạt giải đua của Hiệp hội đua Mỹ NASCAR, tay đua Jimmie Johnson đã chiến thắng cuộc đua liên tiếp lần hai trong mùa giải này vào ngày chủ nhật trong 2010 Lenox Industrial Tools 301 tại đường đua tốc độ cao New Hamspshire.']\n--------------------------------------------------\nĐó là chiến thắng lần thứ năm của anh trong mùa giải xe hơi chuyên nghiệp hàng đầu của Mỹ năm 2010, đưa anh lên trình độ với Denny Hamlin cho hầu hết các chiến thắng.\n['Đó là chiến thắng lần thứ năm của anh trong mùa giải xe hơi chuyên nghiệp hàng đầu của Mỹ năm 2010, đưa anh lên trình độ với Denny Hamlin cho hầu hết các chiến thắng.']\n--------------------------------------------------\nChiến thắng đã mang lại cho Johson 190 điểm (bao gồm 5 điểm thưởng), đưa anh tiến gần hơn người dẫn điểm Kevin Harcick, nhưng anh vẫn kém người ở vị trí thứ hai 105 điểm.\n['Chiến thắng đã mang lại cho Johson 190 điểm (bao gồm 5 điểm thưởng), đưa anh tiến gần hơn người dẫn điểm Kevin Harcick, nhưng anh vẫn kém người ở vị trí thứ hai 105 điểm.']\n--------------------------------------------------\nTrong các bảng điểm, Harvick và Johnson duy trì ở vị trí thứ nhất và thứ hai.\n['Trong các bảng điểm, Harvick và Johnson duy trì ở vị trí thứ nhất và thứ hai.']\n--------------------------------------------------\nKyle Busch, bởi vì va chạm của anh với Jeff Burton duy trì ở vị trí thứ ba trong khi đồng đội của anh Hamlin ở vị trí thứ tư.\n['Kyle Busch, bởi vì va chạm của anh với Jeff Burton duy trì ở vị trí thứ ba trong khi đồng đội của anh Hamlin ở vị trí thứ tư.']\n--------------------------------------------------\nGordon, Kurt Busch, Matt Kensith, và Burton đứng ởcác vị trí tiếp theo trong nhóm tám người dẫn đầu. Gordon, Kurt Busch, Matt Kensith, và Burton đứng ởcác vị trí tiếp theo trong nhóm tám người dẫn đầu.\n['Gordon, Kurt Busch, Matt Kensith, và Burton đứng ởcác vị trí tiếp theo trong nhóm tám người dẫn đầu.', 'Gordon, Kurt Busch, Matt Kensith, và Burton đứng ởcác vị trí tiếp theo trong nhóm tám người dẫn đầu.']\n--------------------------------------------------\nStewart tiến lên một bậc sau khi về thứ hai và ở vị trí thứ chín, khi Greg Biffle xuống thứ mười.\n['Stewart tiến lên một bậc sau khi về thứ hai và ở vị trí thứ chín, khi Greg Biffle xuống thứ mười.']\n--------------------------------------------------\nMark Martin và Carl Edwards ở trong nhóm mười hai người đứng đầu, và hiện nay đang trong Cuộc rượt đuổi.\n['Mark Martin và Carl Edwards ở trong nhóm mười hai người đứng đầu, và hiện nay đang trong Cuộc rượt đuổi.']\n--------------------------------------------------\nĐã có thông tin khẳng định rằng tám chú ngựa đua thuần chủng tại Trường đua Randwick ở Sydney đã bị nhiễm cúm ngựa.\n['Đã có thông tin khẳng định rằng tám chú ngựa đua thuần chủng tại Trường đua Randwick ở Sydney đã bị nhiễm cúm ngựa.']\n--------------------------------------------------\nRandwich đã bị đóng cửa, và người ta cho rằng việc đóng cửa sẽ kéo dài trong hai tháng tới.\n['Randwich đã bị đóng cửa, và người ta cho rằng việc đóng cửa sẽ kéo dài trong hai tháng tới.']\n--------------------------------------------------\nNgười ta cũng dự đoán rằng vi rút cúm sẽ lây cho phần lớn trong số 700 chú ngựa tại Randwick.\n['Người ta cũng dự đoán rằng vi rút cúm sẽ lây cho phần lớn trong số 700 chú ngựa tại Randwick.']\n--------------------------------------------------\nBộ trưởng Bộ công nghiệp bang New South Wales nói rằng các thiết bị cần phải được cách ly cho đến hết thời gian 30 ngày sau khi có dấu hiệu cuối cùng của bệnh cúm.\n['Bộ trưởng Bộ công nghiệp bang New South Wales nói rằng các thiết bị cần phải được cách ly cho đến hết thời gian 30 ngày sau khi có dấu hiệu cuối cùng của bệnh cúm.']\n--------------------------------------------------\nCác trường hợp này là những ca ngựa đua nhiễm cúm đầu tiên, mặc dù trước đó có nhiều ngựa cho mục đích giải trí bị nhiễm cúm ở New South Wales và Queensland.\n['Các trường hợp này là những ca ngựa đua nhiễm cúm đầu tiên, mặc dù trước đó có nhiều ngựa cho mục đích giải trí bị nhiễm cúm ở New South Wales và Queensland.']\n--------------------------------------------------\nBệnh cúm này rất dễ lây nhiễm nhưng không thể lây nhiễm sang người.\n['Bệnh cúm này rất dễ lây nhiễm nhưng không thể lây nhiễm sang người.']\n--------------------------------------------------\nViệc ngừng các cuộc đua trên toàn quốc làm ngành công nghiệp này thất thu hàng chục triệu đô la mỗi ngày.\n['Việc ngừng các cuộc đua trên toàn quốc làm ngành công nghiệp này thất thu hàng chục triệu đô la mỗi ngày.']\n--------------------------------------------------\nNgười đứng đầu trường đua NSW, Peter V'Landys nói rằng mặc dù các cuộc đua ngựa đã bị tạm dừng kể từ khi có lệnh cấm việc từ cuối tuần trước, hôm nay là \"một ngày kinh khủng, đen tối\" cho ngành công nghiệp đua ngựa ở NSW.\n['Người đứng đầu trường đua NSW, Peter V\\'Landys nói rằng mặc dù các cuộc đua ngựa đã bị tạm dừng kể từ khi có lệnh cấm việc từ cuối tuần trước, hôm nay là \"một ngày kinh khủng, đen tối\" cho ngành công nghiệp đua ngựa ở NSW.']\n--------------------------------------------------\nNgười ta hy vọng rằng các cuộc đua sẽ được bắt đầu lại vào cuối tuần này trên toàn lãnh thổ Úc trừ bang NSW và Queensland.\n['Người ta hy vọng rằng các cuộc đua sẽ được bắt đầu lại vào cuối tuần này trên toàn lãnh thổ Úc trừ bang NSW và Queensland.']\n--------------------------------------------------\nTrong khi lễ hội đua ngựa mùa xuân của Sydney đã bị hoãn, người ta hy vọng lễ hội tại Melbourne sẽ bắt đầu vào cuối tuần này với giải Caufield Cup.\n['Trong khi lễ hội đua ngựa mùa xuân của Sydney đã bị hoãn, người ta hy vọng lễ hội tại Melbourne sẽ bắt đầu vào cuối tuần này với giải Caufield Cup.']\n--------------------------------------------------\nGiải sẽ được diễn ra với các biện pháp phòng tránh đặc biệt nhằm nỗ lực đảm bảo bang không bị lây nhiễm dịch cúm.\n['Giải sẽ được diễn ra với các biện pháp phòng tránh đặc biệt nhằm nỗ lực đảm bảo bang không bị lây nhiễm dịch cúm.']\n--------------------------------------------------\nNgười ta sẽ cấm sự tiếp xúc giữa công chúng bên ngoài và nhưng người đang làm việc với các chú ngựa và những nài ngựa ở Sydney Darren Beadman và Hugh Bowman và một số huấn luyện ngựa liên bang bao gồm cả Bart Cummings cũng không được phép tham gia.\n['Người ta sẽ cấm sự tiếp xúc giữa công chúng bên ngoài và nhưng người đang làm việc với các chú ngựa và những nài ngựa ở Sydney Darren Beadman và Hugh Bowman và một số huấn luyện ngựa liên bang bao gồm cả Bart Cummings cũng không được phép tham gia.']\n--------------------------------------------------\nBộ trưởng Bộ Nông nghiệp Liên bang, ông Peter McGauran nói rằng lễ hội mùa xuân tại Melbourne sẽ vẫn \"giữ nguyên phong độ\" mặc dù không có sự có mặt của một số tay đua lớn nhất Úc.\n['Bộ trưởng Bộ Nông nghiệp Liên bang, ông Peter McGauran nói rằng lễ hội mùa xuân tại Melbourne sẽ vẫn \"giữ nguyên phong độ\" mặc dù không có sự có mặt của một số tay đua lớn nhất Úc.']\n--------------------------------------------------\nQuân đội Palestin đã phủ nhận tuyên bố của một Bộ trưởng Israel rằng họ đã đồng ý với lệnh ngừng bắn.\n['Quân đội Palestin đã phủ nhận tuyên bố của một Bộ trưởng Israel rằng họ đã đồng ý với lệnh ngừng bắn.']\n--------------------------------------------------\nChỉ một lúc sau khi Isarel và lãnh đạo mới của Palestin Mohmoud Abbas có vẻ như đã thống nhất đi tới ngừng bắn, người phát ngôn của nhóm quân đội Hamas của Palestin đã phủ nhận điều đó.\n['Chỉ một lúc sau khi Isarel và lãnh đạo mới của Palestin Mohmoud Abbas có vẻ như đã thống nhất đi tới ngừng bắn, người phát ngôn của nhóm quân đội Hamas của Palestin đã phủ nhận điều đó.']\n--------------------------------------------------\nÍt nhất 11 người đã thiệt mạng trong hai ngày 26 và 27 tháng Mười hai trong các cuộc ẩu đả tranh giành địa bàn giữa các nhóm buôn lậu thuốc phiện ở khu ổ chuột \"morro da Mineira\" (Đồi Mỏ) thuộc địa phận Catumbi lân cận Rio de Janeiro, Brazil.\n['Ít nhất 11 người đã thiệt mạng trong hai ngày 26 và 27 tháng Mười hai trong các cuộc ẩu đả tranh giành địa bàn giữa các nhóm buôn lậu thuốc phiện ở khu ổ chuột \"morro da Mineira\" (Đồi Mỏ) thuộc địa phận Catumbi lân cận Rio de Janeiro, Brazil.']\n--------------------------------------------------\nKhu vực bị kiểm soát bởi băng đảng Comando Vermelho (Chỉ Huy Đỏ), băng đảng này không cho phép các băng đảng khác bán thuốc phiện ở khu vực này.\n['Khu vực bị kiểm soát bởi băng đảng Comando Vermelho (Chỉ Huy Đỏ), băng đảng này không cho phép các băng đảng khác bán thuốc phiện ở khu vực này.']\n--------------------------------------------------\n"
     ]
    }
   ],
   "source": [
    "# km_doc = read_file('./test_km.txt')\n",
    "vi_doc = read_file('./vi_50_sens.txt')"
   ]
  },
  {
   "cell_type": "code",
   "execution_count": 56,
   "metadata": {},
   "outputs": [
    {
     "output_type": "execute_result",
     "data": {
      "text/plain": [
       "56"
      ]
     },
     "metadata": {},
     "execution_count": 56
    }
   ],
   "source": [
    "len(vi_doc)"
   ]
  },
  {
   "cell_type": "code",
   "execution_count": 96,
   "metadata": {},
   "outputs": [],
   "source": [
    "text = '''Theo phóng viên TTXVN tại New Delhi, ngày 30/12, Thương vụ Việt Nam tại Ấn Độ phối hợp với Phòng Thương mại và Công nghiệp các nhà nhập khẩu Ấn Độ (IICCI) tổ chức hội nghị giao thương trực tuyến với chủ đề “Khám phá cơ hội đầu tư và kinh doanh Việt Nam-Ấn Độ trong lĩnh vực dệt may”. Tham dự buổi giao thương về phía Việt Nam có Tiến sĩ Đỗ Thanh Hải, Tham tán, Đại biện lâm thời Việt Nam tại Ấn Độ, ông Bùi Trung Thướng, Tham tán, Trưởng Cơ quan Thương vụ Việt Nam tại Ấn Độ, ông Bùi Trọng Thoan, Phó Tổng giám đốc Trung tâm thông tin và tư vấn đầu tư, Hiệp hội doanh nghiệp đầu tư nước ngoài thuộc Bộ Kế hoạch và Đầu tư, bà Phạm Minh Hương, nguyên giám đốc điều hành Tập đoàn dệt may Việt Nam. Về phía Ấn Độ có ông A.K Saxena, Chủ tịch IICCI, ông A. Sakthivel, Chủ tịch hội đồng xúc tiến xuất khẩu dệt may - Bộ Dệt May Ấn Độ, ông Manmonhan Agarawal, Phó Chủ tịch Hiệp hội công nghiệp Ấn Độ và khoảng 100 doanh nghiệp lớn thuộc lĩnh vực dệt may của 2 nước. Trong ảnh: Hội thảo giao thương trực tuyến \"Khám phá cơ hội đầu tư và kinh doanh Việt Nam-Ấn Độ trong lĩnh vực dệt may”. Ảnh: Huy Lê - P/v TTXVN tại Ấn Độ. Theo ông Sakthivel, ngành dệt may của Ấn Độ đóng góp hơn 2% vào GDP của nước này và tạo việc làm cho hơn 45 triệu người, đóng góp 15% vào thu nhập xuất khẩu trong năm tài chính 2018-1019. Thị trường hàng dệt may của Ấn Độ ước tính đạt 100 tỷ USD trong tài khóa 2018-2019. Chính phủ Ấn Độ đang áp dụng nhiều biện pháp để thúc đẩy ngành dệt may, trong đó cho phép đầu tư 100% vốn đầu tư trực tiếp nước ngoài (FDI) vào lĩnh vực này theo lộ trình tự động. Đặc biệt, tháng 11/2020, Chính phủ Ấn Độ đã thông qua chương trình khuyến khích liên kết sản xuất đối với lĩnh vực dệt may. Đề án này cung cấp các ưu đãi cho sản xuất và xuất khẩu các sản phẩm dệt, đặc biệt là những sản phẩm làm từ sợi nhân tạo (MMF). Về phần mình, ông Bùi Trọng Thoan, Phó Tổng giám đốc Trung tâm thông tin và tư vấn đầu tư, Hiệp hội doanh nghiệp đầu tư nước ngoài, khẳng định Việt Nam là một điểm sáng trong bức tranh kinh tế toàn cầu ảm đạm do dịch bệnh COVID-19 hoành hành. Việt Nam là một trong số ít quốc gia ghi nhận mức tăng trưởng dương năm 2020 với tốc độ đạt 2,91%, tổng kim ngạch xuất nhập khẩu 543,9 tỷ USD, thặng dư thương mại 19,1 tỷ USD, dự trữ ngoại hối khoảng 100 tỷ USD. Về vốn FDI, Việt Nam có chính sách thu hút đầu tư nước ngoài rộng mở, năm 2020 thu hút đầu tư nước ngoài tuy có giảm khoảng 13% so với năm 2019 nhưng dự kiến sẽ tăng mạnh trong các năm tiếp theo do sức hút của các hiệp định thương mại tự do Việt Nam mới kí kết, trong đó có Hiệp định đối tác toàn diện và tiến bộ xuyên Thái Bình Dương (CPTPP), Hiệp định thương mại tự do Việt Nam-Liên minh châu Âu (EVFTA), Hiệp định đối tác kinh tế toàn diện khu vực (RCEP). Đối với lĩnh vực dệt may, ông Thoan cho rằng sức hút FDI sẽ gia tăng do EU, Trung quốc, Nhật Bản – là những thị trường tiêu thụ sản phẩm dệt may lớn -  đều có FTA với Việt Nam. Theo thông tin từ hội thảo, Việt Nam và Ấn Độ có nhiều tiềm năng thúc đẩy hợp tác trong lĩnh vực dệt may. Từ tháng 1-11/2020, Việt Nam nhập khẩu khoảng 1,2 tỷ USD bông và sợi polieste, trong đó 62% đến từ Mỹ, 18% từ Brazil, và chỉ 7% từ Ấn Độ. Đối với vải, Việt Nam nhập khẩu khoảng 10,7 tỷ, trong đó khoảng 60% từ Trung Quốc, còn lại là từ Hàn Quốc, Đài Loan, Nhật Bản và một số nước, Ấn Độ chỉ chiếm khoảng 1%. Trong khi đó, Ấn Độ sở hữu nền công nghiệp dệt may lâu đời, với thế mạnh dựa trên hàng loạt các loại sợi tự nhiên như bông, đay, tơ tằm, len cho đến các loại sợi tổng hợp tổng hợp như polyster, nylon, có nền công nghệ phát triển. Lợi thế này sẽ là sự bổ sung quý giá cho Việt Nam vốn phụ thuộc nhiều vào nguồn nguyên liệu nhập khẩu cho ngành dệt may cũng như mở ra triển vọng thúc đẩy hợp tác với Việt Nam trong đào tạo lực lượng lao động dệt may, ứng dụng khoa học công nghệ, thiết kế…/.\n",
    "'''"
   ]
  },
  {
   "cell_type": "code",
   "execution_count": 99,
   "metadata": {},
   "outputs": [
    {
     "output_type": "execute_result",
     "data": {
      "text/plain": [
       "['Theo phóng viên TTXVN tại New Delhi, ngày 30/12, Thương vụ Việt Nam tại Ấn Độ phối hợp với Phòng Thương mại và Công nghiệp các nhà nhập khẩu Ấn Độ (IICCI) tổ chức hội nghị giao thương trực tuyến với chủ đề “Khám phá cơ hội đầu tư và kinh doanh Việt Nam-Ấn Độ trong lĩnh vực dệt may”.',\n",
       " 'Tham dự buổi giao thương về phía Việt Nam có Tiến sĩ Đỗ Thanh Hải, Tham tán, Đại biện lâm thời Việt Nam tại Ấn Độ, ông Bùi Trung Thướng, Tham tán, Trưởng Cơ quan Thương vụ Việt Nam tại Ấn Độ, ông Bùi Trọng Thoan, Phó Tổng giám đốc Trung tâm thông tin và tư vấn đầu tư, Hiệp hội doanh nghiệp đầu tư nước ngoài thuộc Bộ Kế hoạch và Đầu tư, bà Phạm Minh Hương, nguyên giám đốc điều hành Tập đoàn dệt may Việt Nam.',\n",
       " 'Về phía Ấn Độ có ông A.K Saxena, Chủ tịch IICCI, ông A. Sakthivel, Chủ tịch hội đồng xúc tiến xuất khẩu dệt may - Bộ Dệt May Ấn Độ, ông Manmonhan Agarawal, Phó Chủ tịch Hiệp hội công nghiệp Ấn Độ và khoảng 100 doanh nghiệp lớn thuộc lĩnh vực dệt may của 2 nước.',\n",
       " 'Trong ảnh: Hội thảo giao thương trực tuyến \"Khám phá cơ hội đầu tư và kinh doanh Việt Nam-Ấn Độ trong lĩnh vực dệt may”.',\n",
       " 'Ảnh: Huy Lê - P/v TTXVN tại Ấn Độ.',\n",
       " 'Theo ông Sakthivel, ngành dệt may của Ấn Độ đóng góp hơn 2% vào GDP của nước này và tạo việc làm cho hơn 45 triệu người, đóng góp 15% vào thu nhập xuất khẩu trong năm tài chính 2018-1019.',\n",
       " 'Thị trường hàng dệt may của Ấn Độ ước tính đạt 100 tỷ USD trong tài khóa 2018-2019.',\n",
       " 'Chính phủ Ấn Độ đang áp dụng nhiều biện pháp để thúc đẩy ngành dệt may, trong đó cho phép đầu tư 100% vốn đầu tư trực tiếp nước ngoài (FDI) vào lĩnh vực này theo lộ trình tự động.',\n",
       " 'Đặc biệt, tháng 11/2020, Chính phủ Ấn Độ đã thông qua chương trình khuyến khích liên kết sản xuất đối với lĩnh vực dệt may.',\n",
       " 'Đề án này cung cấp các ưu đãi cho sản xuất và xuất khẩu các sản phẩm dệt, đặc biệt là những sản phẩm làm từ sợi nhân tạo (MMF).',\n",
       " 'Về phần mình, ông Bùi Trọng Thoan, Phó Tổng giám đốc Trung tâm thông tin và tư vấn đầu tư, Hiệp hội doanh nghiệp đầu tư nước ngoài, khẳng định Việt Nam là một điểm sáng trong bức tranh kinh tế toàn cầu ảm đạm do dịch bệnh COVID-19 hoành hành.',\n",
       " 'Việt Nam là một trong số ít quốc gia ghi nhận mức tăng trưởng dương năm 2020 với tốc độ đạt 2,91%, tổng kim ngạch xuất nhập khẩu 543,9 tỷ USD, thặng dư thương mại 19,1 tỷ USD, dự trữ ngoại hối khoảng 100 tỷ USD.',\n",
       " 'Về vốn FDI, Việt Nam có chính sách thu hút đầu tư nước ngoài rộng mở, năm 2020 thu hút đầu tư nước ngoài tuy có giảm khoảng 13% so với năm 2019 nhưng dự kiến sẽ tăng mạnh trong các năm tiếp theo do sức hút của các hiệp định thương mại tự do Việt Nam mới kí kết, trong đó có Hiệp định đối tác toàn diện và tiến bộ xuyên Thái Bình Dương (CPTPP), Hiệp định thương mại tự do Việt Nam-Liên minh châu Âu (EVFTA), Hiệp định đối tác kinh tế toàn diện khu vực (RCEP).',\n",
       " 'Đối với lĩnh vực dệt may, ông Thoan cho rằng sức hút FDI sẽ gia tăng do EU, Trung quốc, Nhật Bản – là những thị trường tiêu thụ sản phẩm dệt may lớn -  đều có FTA với Việt Nam.',\n",
       " 'Theo thông tin từ hội thảo, Việt Nam và Ấn Độ có nhiều tiềm năng thúc đẩy hợp tác trong lĩnh vực dệt may.',\n",
       " 'Từ tháng 1-11/2020, Việt Nam nhập khẩu khoảng 1,2 tỷ USD bông và sợi polieste, trong đó 62% đến từ Mỹ, 18% từ Brazil, và chỉ 7% từ Ấn Độ.',\n",
       " 'Đối với vải, Việt Nam nhập khẩu khoảng 10,7 tỷ, trong đó khoảng 60% từ Trung Quốc, còn lại là từ Hàn Quốc, Đài Loan, Nhật Bản và một số nước, Ấn Độ chỉ chiếm khoảng 1%.',\n",
       " 'Trong khi đó, Ấn Độ sở hữu nền công nghiệp dệt may lâu đời, với thế mạnh dựa trên hàng loạt các loại sợi tự nhiên như bông, đay, tơ tằm, len cho đến các loại sợi tổng hợp tổng hợp như polyster, nylon, có nền công nghệ phát triển.',\n",
       " 'Lợi thế này sẽ là sự bổ sung quý giá cho Việt Nam vốn phụ thuộc nhiều vào nguồn nguyên liệu nhập khẩu cho ngành dệt may cũng như mở ra triển vọng thúc đẩy hợp tác với Việt Nam trong đào tạo lực lượng lao động dệt may, ứng dụng khoa học công nghệ, thiết kế…/.']"
      ]
     },
     "metadata": {},
     "execution_count": 99
    }
   ],
   "source": [
    "sent_tokenize(text)"
   ]
  },
  {
   "cell_type": "code",
   "execution_count": 70,
   "metadata": {},
   "outputs": [
    {
     "output_type": "execute_result",
     "data": {
      "text/plain": [
       "'Theo phóng viên TTXVN tại New Delhi, ngày 30/12, Thương vụ Việt Nam tại Ấn Độ phối hợp với Phòng Thương mại và Công nghiệp các nhà nhập khẩu Ấn Độ (IICCI) tổ chức hội nghị giao thương trực tuyến với chủ đề “Khám phá cơ hội đầu tư và kinh doanh Việt Nam-Ấn Độ trong lĩnh vực dệt may”. Tham dự buổi giao thương về phía Việt Nam có Tiến sĩ Đỗ Thanh Hải, Tham tán, Đại biện lâm thời Việt Nam tại Ấn Độ, ông Bùi Trung Thướng, Tham tán, Trưởng Cơ quan Thương vụ Việt Nam tại Ấn Độ, ông Bùi Trọng Thoan, Phó Tổng giám đốc Trung tâm thông tin và tư vấn đầu tư, Hiệp hội doanh nghiệp đầu tư nước ngoài thuộc Bộ Kế hoạch và Đầu tư, bà Phạm Minh Hương, nguyên giám đốc điều hành Tập đoàn dệt may Việt Nam. Về phía Ấn Độ có ông A.K Saxena, Chủ tịch IICCI, ông A. Sakthivel, Chủ tịch hội đồng xúc tiến xuất khẩu dệt may - Bộ Dệt May Ấn Độ, ông Manmonhan Agarawal, Phó Chủ tịch Hiệp hội công nghiệp Ấn Độ và khoảng 100 doanh nghiệp lớn thuộc lĩnh vực dệt may của 2 nước. Trong ảnh: Hội thảo giao thương trực tuyến \"Khám phá cơ hội đầu tư và kinh doanh Việt Nam-Ấn Độ trong lĩnh vực dệt may”. Ảnh: Huy Lê - P/v TTXVN tại Ấn Độ. Theo ông Sakthivel, ngành dệt may của Ấn Độ đóng góp hơn 2% vào GDP của nước này và tạo việc làm cho hơn 45 triệu người, đóng góp 15% vào thu nhập xuất khẩu trong năm tài chính 2018-1019. Thị trường hàng dệt may của Ấn Độ ước tính đạt 100 tỷ USD trong tài khóa 2018-2019. Chính phủ Ấn Độ đang áp dụng nhiều biện pháp để thúc đẩy ngành dệt may, trong đó cho phép đầu tư 100% vốn đầu tư trực tiếp nước ngoài (FDI) vào lĩnh vực này theo lộ trình tự động. Đặc biệt, tháng 11/2020, Chính phủ Ấn Độ đã thông qua chương trình khuyến khích liên kết sản xuất đối với lĩnh vực dệt may. Đề án này cung cấp các ưu đãi cho sản xuất và xuất khẩu các sản phẩm dệt, đặc biệt là những sản phẩm làm từ sợi nhân tạo (MMF). Về phần mình, ông Bùi Trọng Thoan, Phó Tổng giám đốc Trung tâm thông tin và tư vấn đầu tư, Hiệp hội doanh nghiệp đầu tư nước ngoài, khẳng định Việt Nam là một điểm sáng trong bức tranh kinh tế toàn cầu ảm đạm do dịch bệnh COVID-19 hoành hành. Việt Nam là một trong số ít quốc gia ghi nhận mức tăng trưởng dương năm 2020 với tốc độ đạt 2,91%, tổng kim ngạch xuất nhập khẩu 543,9 tỷ USD, thặng dư thương mại 19,1 tỷ USD, dự trữ ngoại hối khoảng 100 tỷ USD. Về vốn FDI, Việt Nam có chính sách thu hút đầu tư nước ngoài rộng mở, năm 2020 thu hút đầu tư nước ngoài tuy có giảm khoảng 13% so với năm 2019 nhưng dự kiến sẽ tăng mạnh trong các năm tiếp theo do sức hút của các hiệp định thương mại tự do Việt Nam mới kí kết, trong đó có Hiệp định đối tác toàn diện và tiến bộ xuyên Thái Bình Dương (CPTPP), Hiệp định thương mại tự do Việt Nam-Liên minh châu Âu (EVFTA), Hiệp định đối tác kinh tế toàn diện khu vực (RCEP). Đối với lĩnh vực dệt may, ông Thoan cho rằng sức hút FDI sẽ gia tăng do EU, Trung quốc, Nhật Bản – là những thị trường tiêu thụ sản phẩm dệt may lớn -  đều có FTA với Việt Nam. Theo thông tin từ hội thảo, Việt Nam và Ấn Độ có nhiều tiềm năng thúc đẩy hợp tác trong lĩnh vực dệt may. Từ tháng 1-11/2020, Việt Nam nhập khẩu khoảng 1,2 tỷ USD bông và sợi polieste, trong đó 62% đến từ Mỹ, 18% từ Brazil, và chỉ 7% từ Ấn Độ. Đối với vải, Việt Nam nhập khẩu khoảng 10,7 tỷ, trong đó khoảng 60% từ Trung Quốc, còn lại là từ Hàn Quốc, Đài Loan, Nhật Bản và một số nước, Ấn Độ chỉ chiếm khoảng 1%. Trong khi đó, Ấn Độ sở hữu nền công nghiệp dệt may lâu đời, với thế mạnh dựa trên hàng loạt các loại sợi tự nhiên như bông, đay, tơ tằm, len cho đến các loại sợi tổng hợp tổng hợp như polyster, nylon, có nền công nghệ phát triển. Lợi thế này sẽ là sự bổ sung quý giá cho Việt Nam vốn phụ thuộc nhiều vào nguồn nguyên liệu nhập khẩu cho ngành dệt may cũng như mở ra triển vọng thúc đẩy hợp tác với Việt Nam trong đào tạo lực lượng lao động dệt may, ứng dụng khoa học công nghệ, thiết kế…/.'"
      ]
     },
     "metadata": {},
     "execution_count": 70
    }
   ],
   "source": [
    "vi_doc[0]"
   ]
  },
  {
   "cell_type": "code",
   "execution_count": 129,
   "metadata": {},
   "outputs": [],
   "source": [
    "vi_doc_preprocessed = preprocess_text(vi_doc, 'vi')"
   ]
  },
  {
   "cell_type": "code",
   "execution_count": 46,
   "metadata": {},
   "outputs": [],
   "source": [
    "km_doc_preprocessed = preprocess_text(km_doc, 'km')"
   ]
  },
  {
   "cell_type": "code",
   "execution_count": 48,
   "metadata": {},
   "outputs": [
    {
     "output_type": "execute_result",
     "data": {
      "text/plain": [
       "['ចាប់តាំងពីចូលរួមក្នុងវេទិកា apec ប្រទេសវៀតណាមគឺជាសមាជិកសកម្មក្នុងចំណោមបណ្តាសមាជិកដែលបានលើកឡើងយ៉ាងសកម្មនិងចូលរួមប្រកបដោយជោគជ័យនៅក្នុងគំនិតផ្តួចផ្តើមជាង ៨០ លើវិស័យជាច្រើន រួមមាន៖',\n",
       " 'ពាណិជ្ជកម្ម ការវិនិយោគ កិច្ចសហប្រតិបត្តិការខាងបច្ចេកទេសនិងសុខភាព…ចូលរួមចំណែកក្នុងការដោះស្រាយបញ្ហាប្រឈមដែលកំពុងកើតឡើងសំរាប់ apec តាមរយៈការផ្តួចផ្តើមគំនិតដើម្បីកាត់បន្ថយគំលាតនៃការអភិវឌ្ឍន៍ ដោះស្រាយនឹងការគំរាមកំហែងនៃបញ្ហាភេរវកម្ម គ្រោះមហន្តរាយធម្មជាតិ ជំងឺរាតត្បាត ការធ្វើកំណែទម្រង់ apec ប្រកបដោយប្រសិទ្ធភាពនិងខ្លាំងក្លា ដែលស្របនឹងការវិវឌ្ឍថ្មីនៃស្ថានភាពក្នុងតំបន់និងពិភពលោក…',\n",
       " 'ជាពិសេស នៅឆ្នាំ ២០២០ វៀតណាមបានចូលរួមយ៉ាងសកម្មក្នុងកិច្ចប្រជុំនិងសន្និសីទ apec ចំនួនជិត ១០០ ទាំងដោយផ្ទាល់និងតាមប្រព័ន្ធវេដេអូ ជាពិសេសអញ្ជើញចូលរួមក្នុងកិច្ចប្រជុំ  កិច្ចសន្ទនាថ្នាក់រដ្ឋមន្ត្រីចំនួន ៩ រួមមាន៖',\n",
       " 'កិច្ចប្រជុំរដ្ឋមន្ត្រីទេសចរណ៍កិច្ចប្រជុំរដ្ឋមន្ត្រីក្រសួងពាណិជ្ជកម្ម កិច្ចប្រជុំកំពូលស្តីពីសុខាភិបាលនិងសេដ្ឋកិច្ច កិច្ចសន្ទនាគោលនយោបាយជាន់ខ្ពស់ស្តីពីសន្តិសុខស្បៀងអាហារ កិច្ចប្រជុំ ថ្នាក់រដ្ឋមន្ត្រីស្តីពីការកែទម្រង់រចនាសម្ព័ន្ធ កិច្ចប្រជុំថ្នាក់រដ្ឋមន្ត្រី សហគ្រាសធុនតូចនិងមធ្យមវេទិកាស្ត្រីនិងសេដ្ឋកិច្ចកិច្ចប្រជុំថ្នាក់រដ្ឋមន្ត្រីហិរញ្ញវត្ថុ។',\n",
       " 'ទន្ទឹមនឹងនេះ វៀតណាមក៏ចូលរួមយ៉ាងសកម្មនិងកសាងទិសដៅសហប្រតិបត្តិការសំខាន់ៗជាច្រើនរបស់ apec ដូចជា៖',\n",
       " 'ចក្ខុវិស័យ apec ក្រោយឆ្នាំ ២០២០ នេះគឺជាសំណើសំខាន់មួយរបស់វៀតណាម។',\n",
       " 'ទន្ទឹមនឹងនេះវៀតណាមក៏មានតួនាទីជាអនុប្រធាននៃក្រុមកសាងចក្ខុវិស័យ apec  ចក្ខុវិស័យថាមពល apec បន្ទាប់ពីឆ្នាំ ២០២០ កម្មវិធីកំណែទម្រង់រចនាសម្ព័ន្ធ apec ដំណាក់កាលឆ្នាំ ២០២១ - ២០២៥ ក្នុងនាមជាមេក្រុមការងារ ។',\n",
       " 'សេចក្តីថ្លែងការណ៍នៃកិច្ចប្រជុំ ក៏ដូចជារបាយការណ៍ទាក់ទងនឹងសកម្មភាពរបស់ apec …',\n",
       " 'ដោយមានការរួមចំណែកយ៉ាងសំខាន់និងជាក់ស្តែងរបស់វៀតណាមសម្រាប់ apec ក្នុងរយៈពេល ២២ ឆ្នាំនៃការចូលរួម វៀតណាមត្រូវបានសមាជិក apec ជឿជាក់និងវាយតម្លៃខ្ពស់។',\n",
       " 'អញ្ជើញចូលរួមក្នុងកិច្ចប្រជុំកំពូល apec នៅឆ្នាំ ២០២០ កិត្យានុភាពរបស់វៀតណាមបានលើកកម្ពស់ ជាពិសេសក្នុងនាមជាប្រធានអាស៊ាន ២០២០ និងជាសមាជិកមិនអចិន្រ្តៃយ៍នៃក្រុមប្រឹក្សាសន្តិសុខនៃអង្គការសហប្រជាជាតិវៀតណាមបន្តអនុវត្តគោលនយោបាយសមាហរណកម្មអន្តរជាតិ លើកកម្ពស់និងបង្កើនទំនាក់ទំនងការបរទេសពហុភាគី។']"
      ]
     },
     "metadata": {},
     "execution_count": 48
    }
   ],
   "source": [
    "km_doc_preprocessed"
   ]
  },
  {
   "cell_type": "code",
   "execution_count": 53,
   "metadata": {},
   "outputs": [
    {
     "output_type": "stream",
     "name": "stderr",
     "text": [
      "2021-01-05 00:09:05,168 - \u001b[38;21mDEBUG   \u001b[0m - urllib3.connectionpool    - Starting new HTTP connection (1): 127.0.0.1:52582\n",
      "2021-01-05 00:09:05,174 - \u001b[38;21mDEBUG   \u001b[0m - urllib3.connectionpool    - http://127.0.0.1:52582 \"POST /handle HTTP/1.1\" 200 None\n",
      "2021-01-05 00:09:05,181 - \u001b[38;21mDEBUG   \u001b[0m - urllib3.connectionpool    - Starting new HTTP connection (1): 127.0.0.1:52582\n",
      "2021-01-05 00:09:05,186 - \u001b[38;21mDEBUG   \u001b[0m - urllib3.connectionpool    - http://127.0.0.1:52582 \"POST /handle HTTP/1.1\" 200 None\n",
      "2021-01-05 00:09:05,196 - \u001b[38;21mDEBUG   \u001b[0m - urllib3.connectionpool    - Starting new HTTP connection (1): 127.0.0.1:52582\n",
      "2021-01-05 00:09:05,202 - \u001b[38;21mDEBUG   \u001b[0m - urllib3.connectionpool    - http://127.0.0.1:52582 \"POST /handle HTTP/1.1\" 200 None\n",
      "2021-01-05 00:09:05,209 - \u001b[38;21mDEBUG   \u001b[0m - urllib3.connectionpool    - Starting new HTTP connection (1): 127.0.0.1:52582\n",
      "2021-01-05 00:09:05,215 - \u001b[38;21mDEBUG   \u001b[0m - urllib3.connectionpool    - http://127.0.0.1:52582 \"POST /handle HTTP/1.1\" 200 None\n",
      "2021-01-05 00:09:05,221 - \u001b[38;21mDEBUG   \u001b[0m - urllib3.connectionpool    - Starting new HTTP connection (1): 127.0.0.1:52582\n",
      "2021-01-05 00:09:05,236 - \u001b[38;21mDEBUG   \u001b[0m - urllib3.connectionpool    - http://127.0.0.1:52582 \"POST /handle HTTP/1.1\" 200 None\n",
      "2021-01-05 00:09:05,242 - \u001b[38;21mDEBUG   \u001b[0m - urllib3.connectionpool    - Starting new HTTP connection (1): 127.0.0.1:52582\n",
      "2021-01-05 00:09:05,247 - \u001b[38;21mDEBUG   \u001b[0m - urllib3.connectionpool    - http://127.0.0.1:52582 \"POST /handle HTTP/1.1\" 200 None\n",
      "2021-01-05 00:09:05,252 - \u001b[38;21mDEBUG   \u001b[0m - urllib3.connectionpool    - Starting new HTTP connection (1): 127.0.0.1:52582\n",
      "2021-01-05 00:09:05,263 - \u001b[38;21mDEBUG   \u001b[0m - urllib3.connectionpool    - http://127.0.0.1:52582 \"POST /handle HTTP/1.1\" 200 None\n",
      "2021-01-05 00:09:05,267 - \u001b[38;21mDEBUG   \u001b[0m - urllib3.connectionpool    - Starting new HTTP connection (1): 127.0.0.1:52582\n",
      "2021-01-05 00:09:05,273 - \u001b[38;21mDEBUG   \u001b[0m - urllib3.connectionpool    - http://127.0.0.1:52582 \"POST /handle HTTP/1.1\" 200 None\n",
      "2021-01-05 00:09:05,278 - \u001b[38;21mDEBUG   \u001b[0m - urllib3.connectionpool    - Starting new HTTP connection (1): 127.0.0.1:52582\n",
      "2021-01-05 00:09:05,284 - \u001b[38;21mDEBUG   \u001b[0m - urllib3.connectionpool    - http://127.0.0.1:52582 \"POST /handle HTTP/1.1\" 200 None\n",
      "2021-01-05 00:09:05,290 - \u001b[38;21mDEBUG   \u001b[0m - urllib3.connectionpool    - Starting new HTTP connection (1): 127.0.0.1:52582\n",
      "2021-01-05 00:09:05,297 - \u001b[38;21mDEBUG   \u001b[0m - urllib3.connectionpool    - http://127.0.0.1:52582 \"POST /handle HTTP/1.1\" 200 None\n"
     ]
    }
   ],
   "source": [
    "vi_doc_segmented = [segment_sentence(sen) for sen in vi_doc_preprocessed]"
   ]
  },
  {
   "cell_type": "code",
   "execution_count": 54,
   "metadata": {},
   "outputs": [
    {
     "output_type": "execute_result",
     "data": {
      "text/plain": [
       "['ý đã đánh_bại bồ_đào_nha với tỉ_số 31-5 ở bảng c giải vô_địch rugby thế_giới 2007 tại parc des princes pari pháp',\n",
       " 'andrea maisi đã mở tỉ_số cho ý ở phút thứ tư với một quả try',\n",
       " 'chiếm thế áp_đảo trong hầu_hết hiệp đầu nhưng ý đã không_thể ghi thêm try nào trước khi nghỉ giữa giờ tuy_nhiên david bortolussi đã sút ba quả phạt_đền kéo_dài thế dẫn_đầu của họ',\n",
       " 'bồ_đào_nha chưa bao_giờ từ_bỏ và david penalva đã ghi một try ở phút thứ 33 điểm duy_nhất của họ trong trận đấu',\n",
       " 'ý đã dẫn 16-5 ở hiệp đầu nhưng ngang sức với bồ_đào_nha ở hầu_hết thời_gian của hiệp hai',\n",
       " 'tuy_nhiên bortolussi đã ghi cú phạt_đền lần thứ tư của trận đấu tiếp đó là những quả try của mauro bergammasco và quả try thứ hai của andrea masi chốt lại chiến_thắng cho ý',\n",
       " 'hiện_tại đứng ở vị_trí thứ ba trong bảng c với tám điểm ý phải đối_mặt với một trận đấu gay_go trước scốt-len đang ở vị_trí thứ hai vào ngày 29 tháng chín',\n",
       " 'niu-di-lân dẫn_đầu bảng với mười điểm hơn scốt-len ở hiệu_số bàn thắng',\n",
       " 'bồ_đào_nha ở cuối bảng với không điểm đứng sau romania với một điểm',\n",
       " 'một phần thông_tin cá_nhân của 3 triệu học_viên anh đăng_kí tham_dự phần sát_hạch lý_thuyết để lấy bằng lái_xe đã bị mất ở iowa hoa_kỳ']"
      ]
     },
     "metadata": {},
     "execution_count": 54
    }
   ],
   "source": [
    "vi_doc_segmented"
   ]
  },
  {
   "cell_type": "code",
   "execution_count": 57,
   "metadata": {},
   "outputs": [],
   "source": [
    "encoded_input = tokenizer(vi_doc_segmented[2])['input_ids']"
   ]
  },
  {
   "cell_type": "code",
   "execution_count": 59,
   "metadata": {},
   "outputs": [
    {
     "output_type": "stream",
     "name": "stdout",
     "text": [
      "<s>\nchiếm\nthế\náp_đảo\ntrong\nhầu_hết\nhiệp\nđầu\nnhưng\ný\nđã\nkhông_thể\nghi\nthêm\ntry\nnào\ntrước\nkhi\nnghỉ\ngiữa\ngiờ\ntuy_nhiên\ndav@@\nid\nbor@@\nto@@\nlus@@\nsi\nđã\nsút\nba\nquả\nphạt_đền\nkéo_dài\nthế\ndẫn_đầu\ncủa\nhọ\n</s>\n"
     ]
    }
   ],
   "source": [
    "for word in encoded_input: \n",
    "    print(tokenizer.decode([word]))"
   ]
  },
  {
   "cell_type": "code",
   "execution_count": 58,
   "metadata": {},
   "outputs": [
    {
     "output_type": "execute_result",
     "data": {
      "text/plain": [
       "[0,\n",
       " 724,\n",
       " 570,\n",
       " 8075,\n",
       " 12,\n",
       " 1399,\n",
       " 2506,\n",
       " 127,\n",
       " 51,\n",
       " 2198,\n",
       " 14,\n",
       " 279,\n",
       " 701,\n",
       " 143,\n",
       " 17168,\n",
       " 142,\n",
       " 71,\n",
       " 26,\n",
       " 915,\n",
       " 147,\n",
       " 232,\n",
       " 1397,\n",
       " 51154,\n",
       " 5916,\n",
       " 10502,\n",
       " 2225,\n",
       " 25029,\n",
       " 7931,\n",
       " 14,\n",
       " 1971,\n",
       " 346,\n",
       " 645,\n",
       " 10538,\n",
       " 832,\n",
       " 570,\n",
       " 2237,\n",
       " 7,\n",
       " 86,\n",
       " 2]"
      ]
     },
     "metadata": {},
     "execution_count": 58
    }
   ],
   "source": [
    "tokenizer.decode([])"
   ]
  },
  {
   "cell_type": "code",
   "execution_count": null,
   "metadata": {},
   "outputs": [],
   "source": []
  }
 ]
}