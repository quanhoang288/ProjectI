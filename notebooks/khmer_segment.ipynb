{
 "metadata": {
  "language_info": {
   "codemirror_mode": {
    "name": "ipython",
    "version": 3
   },
   "file_extension": ".py",
   "mimetype": "text/x-python",
   "name": "python",
   "nbconvert_exporter": "python",
   "pygments_lexer": "ipython3",
   "version": "3.8.5-final"
  },
  "orig_nbformat": 2,
  "kernelspec": {
   "name": "python3",
   "display_name": "Python 3",
   "language": "python"
  }
 },
 "nbformat": 4,
 "nbformat_minor": 2,
 "cells": [
  {
   "cell_type": "code",
   "execution_count": 1,
   "metadata": {},
   "outputs": [
    {
     "output_type": "stream",
     "name": "stderr",
     "text": [
      "2021-01-04 22:05:33,680 - \u001b[1;32mINFO    \u001b[0m - root                      - Loaded model from D:\\anaconda\\lib\\site-packages\\khmernltk\\word_tokenize\\sklearn_crf_ner_10000.sav\n",
      "2021-01-04 22:05:33,701 - \u001b[1;32mINFO    \u001b[0m - root                      - Loaded model from D:\\anaconda\\lib\\site-packages\\khmernltk\\pos_tag\\sklearn_crf_pos_alt_0.9849.sav\n"
     ]
    }
   ],
   "source": [
    "from khmernltk import sentence_tokenize\n",
    "import re"
   ]
  },
  {
   "cell_type": "code",
   "execution_count": 20,
   "metadata": {},
   "outputs": [],
   "source": [
    "raw_text = u'អេនត្រាម៉ាស៊ីបានស៊ុតចូល ក្នុងនាទីទីបួនគ្រដំបូងនៃពាក់កណ្តាលសំរាប់អ៊ីតាលី។អ៊ីតាលី16-5បាននាំមុខក្នុងវគ្គដំបូង តែត្រូវព័រទុយហ្គាល់មកជិតទាន់ក្នុងវគ្គពាក់កណ្តាលចុងក្រោយ។'"
   ]
  },
  {
   "cell_type": "code",
   "execution_count": 21,
   "metadata": {},
   "outputs": [],
   "source": [
    "raw_text = re.sub('\\u200b', '', raw_text).strip()"
   ]
  },
  {
   "cell_type": "code",
   "execution_count": 22,
   "metadata": {},
   "outputs": [
    {
     "output_type": "execute_result",
     "data": {
      "text/plain": [
       "'អេនត្រាម៉ាស៊ីបានស៊ុតចូល ក្នុងនាទីទីបួនគ្រដំបូងនៃពាក់កណ្តាលសំរាប់អ៊ីតាលី។អ៊ីតាលី16-5បាននាំមុខក្នុងវគ្គដំបូង តែត្រូវព័រទុយហ្គាល់មកជិតទាន់ក្នុងវគ្គពាក់កណ្តាលចុងក្រោយ។'"
      ]
     },
     "metadata": {},
     "execution_count": 22
    }
   ],
   "source": [
    "raw_text"
   ]
  },
  {
   "cell_type": "code",
   "execution_count": 23,
   "metadata": {},
   "outputs": [
    {
     "output_type": "stream",
     "name": "stdout",
     "text": [
      "អេនត្រាម៉ាស៊ីបានស៊ុតចូល ក្នុងនាទីទីបួនគ្រដំបូងនៃពាក់កណ្តាលសំរាប់អ៊ីតាលី។\nអ៊ីតាលី16-5បាននាំមុខក្នុងវគ្គដំបូង តែត្រូវព័រទុយហ្គាល់មកជិតទាន់ក្នុងវគ្គពាក់កណ្តាលចុងក្រោយ។\n\n"
     ]
    }
   ],
   "source": [
    "for sen in sentence_tokenize(raw_text):\n",
    "    print(sen)"
   ]
  },
  {
   "cell_type": "code",
   "execution_count": 24,
   "metadata": {},
   "outputs": [
    {
     "output_type": "execute_result",
     "data": {
      "text/plain": [
       "3"
      ]
     },
     "metadata": {},
     "execution_count": 24
    }
   ],
   "source": [
    "len(sentence_tokenize(raw_text))"
   ]
  },
  {
   "cell_type": "code",
   "execution_count": 26,
   "metadata": {},
   "outputs": [
    {
     "output_type": "execute_result",
     "data": {
      "text/plain": [
       "''"
      ]
     },
     "metadata": {},
     "execution_count": 26
    }
   ],
   "source": [
    "sentence_tokenize(raw_text)[2]"
   ]
  },
  {
   "cell_type": "code",
   "execution_count": null,
   "metadata": {},
   "outputs": [],
   "source": []
  }
 ]
}